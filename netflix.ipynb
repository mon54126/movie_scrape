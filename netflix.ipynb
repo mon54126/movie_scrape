{
 "cells": [
  {
   "cell_type": "code",
   "execution_count": 6,
   "id": "74edda7a-20c6-4566-89ed-daa60be5a18b",
   "metadata": {},
   "outputs": [
    {
     "name": "stdout",
     "output_type": "stream",
     "text": [
      "Collecting webdriver-manager\n",
      "  Downloading webdriver_manager-4.0.2-py2.py3-none-any.whl.metadata (12 kB)\n",
      "Requirement already satisfied: requests in c:\\users\\user\\anaconda3\\lib\\site-packages (from webdriver-manager) (2.32.2)\n",
      "Requirement already satisfied: python-dotenv in c:\\users\\user\\anaconda3\\lib\\site-packages (from webdriver-manager) (0.21.0)\n",
      "Requirement already satisfied: packaging in c:\\users\\user\\anaconda3\\lib\\site-packages (from webdriver-manager) (23.2)\n",
      "Requirement already satisfied: charset-normalizer<4,>=2 in c:\\users\\user\\anaconda3\\lib\\site-packages (from requests->webdriver-manager) (2.0.4)\n",
      "Requirement already satisfied: idna<4,>=2.5 in c:\\users\\user\\anaconda3\\lib\\site-packages (from requests->webdriver-manager) (3.7)\n",
      "Requirement already satisfied: urllib3<3,>=1.21.1 in c:\\users\\user\\anaconda3\\lib\\site-packages (from requests->webdriver-manager) (2.2.2)\n",
      "Requirement already satisfied: certifi>=2017.4.17 in c:\\users\\user\\anaconda3\\lib\\site-packages (from requests->webdriver-manager) (2024.8.30)\n",
      "Downloading webdriver_manager-4.0.2-py2.py3-none-any.whl (27 kB)\n",
      "Installing collected packages: webdriver-manager\n",
      "Successfully installed webdriver-manager-4.0.2\n"
     ]
    }
   ],
   "source": [
    "!pip install webdriver-manager"
   ]
  },
  {
   "cell_type": "code",
   "execution_count": 24,
   "id": "1bfa1f07-e9cc-483e-af0d-e6475265e634",
   "metadata": {},
   "outputs": [],
   "source": [
    "from urllib.request import urlopen as uReq\n",
    "from bs4 import BeautifulSoup as soup\n",
    "import pandas as pd\n",
    "from selenium import webdriver\n",
    "from webdriver_manager.chrome import ChromeDriverManager\n",
    "from selenium.webdriver.common.by import By\n",
    "from selenium.webdriver.common.keys import Keys"
   ]
  },
  {
   "cell_type": "code",
   "execution_count": 42,
   "id": "80fa94fc-0c7b-4b1f-b9d6-8659afee1dbe",
   "metadata": {},
   "outputs": [],
   "source": [
    "from selenium.webdriver.common.by import By\n",
    "driver = webdriver.Chrome()\n",
    "driver.implicitly_wait(0.5)\n",
    "driver.get(\"https://www.rottentomatoes.com/m/hocus_pocus/reviews\")\n",
    "driver.maximize_window()\n",
    "driver.find_element(By.CLASS_NAME , 'load-more-container')\n",
    "load_btn = driver.find_element(By.TAG_NAME , 'rt-button')\n",
    "load_btn.click()"
   ]
  },
  {
   "cell_type": "code",
   "execution_count": 34,
   "id": "aaf2db6b-6174-4b8b-941b-a972d08f0f1d",
   "metadata": {},
   "outputs": [],
   "source": [
    "load_btn = driver.find_element(By.TAG_NAME , 'rt-button')"
   ]
  },
  {
   "cell_type": "code",
   "execution_count": 40,
   "id": "919832e7-39b5-4ff7-9731-ac2f4fc282e2",
   "metadata": {},
   "outputs": [],
   "source": [
    "load_btn.click()"
   ]
  },
  {
   "cell_type": "code",
   "execution_count": 16,
   "id": "d10d16c0-2659-45ce-b64f-24fd2bccd4c6",
   "metadata": {},
   "outputs": [
    {
     "data": {
      "text/plain": [
       "<selenium.webdriver.remote.webelement.WebElement (session=\"0e743d9894a6637a62df0f04bfc72e80\", element=\"f.9841A46895D13EEAC6A41DCAD75AA578.d.7D6F17B1D1088E8ED6E8AA250B930294.e.30\")>"
      ]
     },
     "execution_count": 16,
     "metadata": {},
     "output_type": "execute_result"
    }
   ],
   "source": [
    "x = driver.find_element(By.CLASS_NAME, \"review-data\")\n",
    "x"
   ]
  },
  {
   "cell_type": "code",
   "execution_count": 131,
   "id": "110b7ea2-1839-409f-80b1-b1868b4b7d27",
   "metadata": {},
   "outputs": [
    {
     "data": {
      "text/plain": [
       "{'_parent': <selenium.webdriver.chrome.webdriver.WebDriver (session=\"ab493fefeb6cb2c3ed6b95636fe6b1c6\")>,\n",
       " '_id': 'f.73947DCBAAD48ED973A584A2263DDF6E.d.4683AFE20858367691E2A711BD29BE8E.e.29'}"
      ]
     },
     "execution_count": 131,
     "metadata": {},
     "output_type": "execute_result"
    }
   ],
   "source": [
    "x.__dict__"
   ]
  },
  {
   "cell_type": "code",
   "execution_count": 106,
   "id": "ff619d83-f54a-42ab-9901-76a56e8abbae",
   "metadata": {},
   "outputs": [
    {
     "ename": "ModuleNotFoundError",
     "evalue": "No module named 'webdriver_manager'",
     "output_type": "error",
     "traceback": [
      "\u001b[1;31m---------------------------------------------------------------------------\u001b[0m",
      "\u001b[1;31mModuleNotFoundError\u001b[0m                       Traceback (most recent call last)",
      "Cell \u001b[1;32mIn[106], line 5\u001b[0m\n\u001b[0;32m      3\u001b[0m \u001b[38;5;28;01mimport\u001b[39;00m \u001b[38;5;21;01mpandas\u001b[39;00m \u001b[38;5;28;01mas\u001b[39;00m \u001b[38;5;21;01mpd\u001b[39;00m\n\u001b[0;32m      4\u001b[0m \u001b[38;5;28;01mfrom\u001b[39;00m \u001b[38;5;21;01mselenium\u001b[39;00m \u001b[38;5;28;01mimport\u001b[39;00m webdriver\n\u001b[1;32m----> 5\u001b[0m \u001b[38;5;28;01mfrom\u001b[39;00m \u001b[38;5;21;01mwebdriver_manager\u001b[39;00m\u001b[38;5;21;01m.\u001b[39;00m\u001b[38;5;21;01mchrome\u001b[39;00m \u001b[38;5;28;01mimport\u001b[39;00m ChromeDriverManager\n\u001b[0;32m      6\u001b[0m \u001b[38;5;28;01mfrom\u001b[39;00m \u001b[38;5;21;01mselenium\u001b[39;00m\u001b[38;5;21;01m.\u001b[39;00m\u001b[38;5;21;01mwebdriver\u001b[39;00m\u001b[38;5;21;01m.\u001b[39;00m\u001b[38;5;21;01mcommon\u001b[39;00m\u001b[38;5;21;01m.\u001b[39;00m\u001b[38;5;21;01mby\u001b[39;00m \u001b[38;5;28;01mimport\u001b[39;00m By\n\u001b[0;32m      8\u001b[0m \u001b[38;5;66;03m# IMDb URL for the movie (replace with the URL of the Netflix movie)\u001b[39;00m\n",
      "\u001b[1;31mModuleNotFoundError\u001b[0m: No module named 'webdriver_manager'"
     ]
    }
   ],
   "source": [
    "from urllib.request import urlopen as uReq\n",
    "from bs4 import BeautifulSoup as soup\n",
    "import pandas as pd\n",
    "from selenium import webdriver\n",
    "from webdriver_manager.chrome import ChromeDriverManager\n",
    "from selenium.webdriver.common.by import By\n",
    "\n",
    "# IMDb URL for the movie (replace with the URL of the Netflix movie)\n",
    "url = 'https://www.rottentomatoes.com/m/hocus_pocus/reviews'\n",
    "\n",
    "uClient = uReq(url)\n",
    "page_html = uClient.read()\n",
    "uClient.close()"
   ]
  },
  {
   "cell_type": "code",
   "execution_count": 55,
   "id": "203b162c-0ce8-4c50-962a-cb3cff9b63c5",
   "metadata": {},
   "outputs": [],
   "source": [
    "s = soup(page_html, 'html.parser')\n",
    "reviews = s.find_all(\"div\", class_=\"review-data\")"
   ]
  },
  {
   "cell_type": "markdown",
   "id": "2c5adf6a-384d-4346-8cfb-506e39dde8c3",
   "metadata": {},
   "source": [
    "<div class=\"review-data\">\r\n",
    "<img class=\"critic-picture\" src=\"https://images.fandango.com/cms/assets/5b6ff500-1663-11ec-ae31-05a670d2d590--rtactordefault.png\"/>\r\n",
    "<div class=\"reviewer-name-and-publication\">\r\n",
    "<a class=\"display-name\" data-qa=\"review-critic-link\" href=\"/critics/peter-bradshaw\">\r\n",
    "                        Peter Bradshaw\r\n",
    "                    </a>\r\n",
    "<a class=\"publication\" data-qa=\"review-publication\" href=\"/critics/source/205\">\r\n",
    "                        Guardian\r\n",
    "                    </a>\r\n",
    "<rt-icon-top-critic class=\"small\"></rt-icon-top-critic>\r\n",
    "</div>\r\n",
    "<score-icon-critics sentiment=\"POSITIVE\" size=\"4\"></score-icon-critics>\r\n",
    "</div>\r\n",
    "<div class=\"review-text-container\">\r\n",
    "<p class=\"review-text\" data-qa=\"review-quote\">It is an enjoyable watch and a decent bit of entertainment, although maybe it functions better as a small-screen discovery for its devoted fanbase.</p>\r\n",
    "<p class=\"original-score-and-url\">\r\n",
    "<a class=\"full-url\" href=\"https://www.theguardian.com/film/2023/sep/27/hocus-pocus-review-bette-midler-sarah-jessica-parker\" rel=\"nofollow noopener\" target=\"_blank\">Full Review</a>\r\n",
    "                \r\n",
    "                \r\n",
    "                    | Original Score: 3/5\r\n",
    "                \r\n",
    "                | <span data-qa=\"review-date\">Sep 27, 2023</span>\r\n",
    "</p>\r\n",
    "</div>\r\n",
    "</div>"
   ]
  },
  {
   "cell_type": "code",
   "execution_count": 88,
   "id": "93389440-123d-418d-9c91-76f193ac06c2",
   "metadata": {},
   "outputs": [
    {
     "ename": "NameError",
     "evalue": "name 'ChromeDriverManager' is not defined",
     "output_type": "error",
     "traceback": [
      "\u001b[1;31m---------------------------------------------------------------------------\u001b[0m",
      "\u001b[1;31mNameError\u001b[0m                                 Traceback (most recent call last)",
      "Cell \u001b[1;32mIn[88], line 1\u001b[0m\n\u001b[1;32m----> 1\u001b[0m driver \u001b[38;5;241m=\u001b[39m webdriver\u001b[38;5;241m.\u001b[39mChrome(ChromeDriverManager()\u001b[38;5;241m.\u001b[39minstall())\n",
      "\u001b[1;31mNameError\u001b[0m: name 'ChromeDriverManager' is not defined"
     ]
    }
   ],
   "source": [
    "driver = webdriver.Chrome(ChromeDriverManager().install())"
   ]
  },
  {
   "cell_type": "code",
   "execution_count": null,
   "id": "e50abca2-a773-43df-8ace-4a01d1331005",
   "metadata": {},
   "outputs": [],
   "source": []
  }
 ],
 "metadata": {
  "kernelspec": {
   "display_name": "Python 3 (ipykernel)",
   "language": "python",
   "name": "python3"
  },
  "language_info": {
   "codemirror_mode": {
    "name": "ipython",
    "version": 3
   },
   "file_extension": ".py",
   "mimetype": "text/x-python",
   "name": "python",
   "nbconvert_exporter": "python",
   "pygments_lexer": "ipython3",
   "version": "3.12.5"
  }
 },
 "nbformat": 4,
 "nbformat_minor": 5
}
