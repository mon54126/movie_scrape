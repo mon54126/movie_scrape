{
 "cells": [
  {
   "cell_type": "code",
   "execution_count": 14,
   "id": "55748f81-81ca-4678-a835-bc15968da3a3",
   "metadata": {},
   "outputs": [],
   "source": [
    "from bs4 import BeautifulSoup\n",
    "from requests import TooManyRedirects\n",
    "import re\n",
    "import requests\n",
    "from datetime import datetime\n",
    "import os\n",
    "import pandas as pd\n",
    "# ------- import ----------\n",
    "from scrape_function import * \n",
    "from scrape_util import *"
   ]
  },
  {
   "cell_type": "code",
   "execution_count": 16,
   "id": "cbe08d48-9c61-4f0c-9317-9e82289feb12",
   "metadata": {},
   "outputs": [],
   "source": [
    "url = f'https://www.rottentomatoes.com/napi/critics/stephen-silver/movies'\n",
    "res = get_url_response(url)"
   ]
  },
  {
   "cell_type": "code",
   "execution_count": 34,
   "id": "8918f129-96ea-4c2b-8c1a-71ff0fae7f69",
   "metadata": {},
   "outputs": [],
   "source": [
    "def json_dict_to_df(json_dict, else_value = None):\n",
    "    df = pd.DataFrame({'tomatometerSentiment':[],\n",
    "                       'mediaTomatometerCertified':[],\n",
    "                       'mediaTomatometerSentiment':[],\n",
    "                       'mediaTomatometerScore':[],\n",
    "                       'quote':[],\n",
    "                       'date':[],\n",
    "                       'mediaInfo':[],\n",
    "                       'mediaTitle':[],\n",
    "                       'mediaUrl':[]\n",
    "                        }) \n",
    "    ''' convert value from json dict form to existing pandas dataframe'''\n",
    "    key_list = df.columns\n",
    "    if not else_value:\n",
    "        else_value = [None]*len(key_list)\n",
    "    \n",
    "    dict_lamb = lambda k,e: json_dict[k] if k in json_dict.keys() else e  \n",
    "    value_list = list(map(dict_lamb, key_list, else_value))\n",
    "    df_ = pd.DataFrame({'tomatometerSentiment':[value_list[0]],\n",
    "                       'mediaTomatometerCertified':[value_list[1]],\n",
    "                       'mediaTomatometerSentiment':[value_list[2]],\n",
    "                       'mediaTomatometerScore':[value_list[3]],\n",
    "                       'quote':[value_list[4]],\n",
    "                       'date':[value_list[5]],\n",
    "                       'mediaInfo':[value_list[6]],\n",
    "                       'mediaTitle':[value_list[7]],\n",
    "                       'mediaUrl':[value_list[8]]\n",
    "                        }) \n",
    "    return df._append(df_, ignore_index = True)\n",
    "\n",
    "def get_user_info(name):\n",
    "    username = name\n",
    "    name = re.sub(r\"[^a-zA-Z]{1,}\", \"-\", name).lower()\n",
    "    url = f'https://www.rottentomatoes.com/napi/critics/{name}/movies'\n",
    "    print(f'Request data from {url}')\n",
    "    res = get_url_response(url)\n",
    "    df = json_dict_to_df(json_dict = res['reviews'][0])\n",
    "    df['name'] = username\n",
    "    return df"
   ]
  },
  {
   "cell_type": "code",
   "execution_count": 38,
   "id": "2891e03c-f0b3-4c07-ac87-017547c4e4b9",
   "metadata": {},
   "outputs": [
    {
     "name": "stdout",
     "output_type": "stream",
     "text": [
      "Request data from https://www.rottentomatoes.com/napi/critics/stephen-silver/movies\n"
     ]
    },
    {
     "data": {
      "text/html": [
       "<div>\n",
       "<style scoped>\n",
       "    .dataframe tbody tr th:only-of-type {\n",
       "        vertical-align: middle;\n",
       "    }\n",
       "\n",
       "    .dataframe tbody tr th {\n",
       "        vertical-align: top;\n",
       "    }\n",
       "\n",
       "    .dataframe thead th {\n",
       "        text-align: right;\n",
       "    }\n",
       "</style>\n",
       "<table border=\"1\" class=\"dataframe\">\n",
       "  <thead>\n",
       "    <tr style=\"text-align: right;\">\n",
       "      <th></th>\n",
       "      <th>tomatometerSentiment</th>\n",
       "      <th>mediaTomatometerCertified</th>\n",
       "      <th>mediaTomatometerSentiment</th>\n",
       "      <th>mediaTomatometerScore</th>\n",
       "      <th>quote</th>\n",
       "      <th>date</th>\n",
       "      <th>mediaInfo</th>\n",
       "      <th>mediaTitle</th>\n",
       "      <th>mediaUrl</th>\n",
       "      <th>name</th>\n",
       "    </tr>\n",
       "  </thead>\n",
       "  <tbody>\n",
       "    <tr>\n",
       "      <th>0</th>\n",
       "      <td>POSITIVE</td>\n",
       "      <td>0.0</td>\n",
       "      <td>POSITIVE</td>\n",
       "      <td>94</td>\n",
       "      <td>If you’re a Beatles fan, and especially if you...</td>\n",
       "      <td>Nov 27, 2024</td>\n",
       "      <td>2024</td>\n",
       "      <td>Beatles '64</td>\n",
       "      <td>/m/beatles_64</td>\n",
       "      <td>Stephen Silver</td>\n",
       "    </tr>\n",
       "  </tbody>\n",
       "</table>\n",
       "</div>"
      ],
      "text/plain": [
       "  tomatometerSentiment mediaTomatometerCertified mediaTomatometerSentiment  \\\n",
       "0             POSITIVE                       0.0                  POSITIVE   \n",
       "\n",
       "  mediaTomatometerScore                                              quote  \\\n",
       "0                    94  If you’re a Beatles fan, and especially if you...   \n",
       "\n",
       "           date mediaInfo   mediaTitle       mediaUrl            name  \n",
       "0  Nov 27, 2024      2024  Beatles '64  /m/beatles_64  Stephen Silver  "
      ]
     },
     "execution_count": 38,
     "metadata": {},
     "output_type": "execute_result"
    }
   ],
   "source": [
    "x = get_user_info('Stephen Silver')\n",
    "x"
   ]
  },
  {
   "cell_type": "code",
   "execution_count": null,
   "id": "f3a352ea-e8df-405f-a0f5-474c43b91f0a",
   "metadata": {},
   "outputs": [],
   "source": []
  }
 ],
 "metadata": {
  "kernelspec": {
   "display_name": "Python 3 (ipykernel)",
   "language": "python",
   "name": "python3"
  },
  "language_info": {
   "codemirror_mode": {
    "name": "ipython",
    "version": 3
   },
   "file_extension": ".py",
   "mimetype": "text/x-python",
   "name": "python",
   "nbconvert_exporter": "python",
   "pygments_lexer": "ipython3",
   "version": "3.12.4"
  }
 },
 "nbformat": 4,
 "nbformat_minor": 5
}
