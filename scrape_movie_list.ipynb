{
 "cells": [
  {
   "cell_type": "code",
   "execution_count": 1,
   "id": "daef0f01-b303-4471-a063-b27238f586a0",
   "metadata": {},
   "outputs": [],
   "source": [
    "from bs4 import BeautifulSoup\n",
    "from requests import TooManyRedirects\n",
    "import re\n",
    "import requests\n",
    "from datetime import datetime\n",
    "import os\n",
    "import pandas as pd"
   ]
  },
  {
   "cell_type": "code",
   "execution_count": 63,
   "id": "146ef03d-b90f-4b67-9e5b-8dbb5be25b95",
   "metadata": {},
   "outputs": [],
   "source": [
    "def get_url_response(url):\n",
    "    try:\n",
    "        response = requests.get(url)\n",
    "        if response.status_code != 200:\n",
    "            print('Aborted as response code is not 200')\n",
    "            return None\n",
    "    except Exception as e:\n",
    "        print(f'[request {url} failed] : {e}')\n",
    "        return None\n",
    "    return json.loads(response.content)"
   ]
  },
  {
   "cell_type": "code",
   "execution_count": 64,
   "id": "0be8e528-bcce-4fe9-b7b4-7151395c76d5",
   "metadata": {},
   "outputs": [],
   "source": [
    "def get_value_from_json_key(keys,json):\n",
    "    r = []\n",
    "    for k in keys:\n",
    "        if k in json.keys():\n",
    "            r.append(json[k])\n",
    "        else:\n",
    "            r.append(None)\n",
    "    return r"
   ]
  },
  {
   "cell_type": "code",
   "execution_count": 66,
   "id": "e0288426-9a50-486b-a887-9c73b83c25ef",
   "metadata": {},
   "outputs": [],
   "source": [
    "def get_movie_name(url):\n",
    "    # create dataframe\n",
    "    df = pd.DataFrame({'score':[],\n",
    "                       'sentiment':[],\n",
    "                       'releaseDateText':[],\n",
    "                       'title':[],\n",
    "                       'type':[]\n",
    "                        }) \n",
    "    # first page\n",
    "    is_first_iter = True\n",
    "    response = get_url_response(url)\n",
    "    def append_to_df(df, value_to_append):\n",
    "        df_to_append = pd.DataFrame({'movie_title':[value_to_append[0]],\n",
    "                                     'movie_id':[value_to_append[1]],\n",
    "                                     'reviewer_name':[value_to_append[2]],\n",
    "                                     'review_date':[value_to_append[3]],\n",
    "                                     'review_score':[value_to_append[4]]\n",
    "                                    })\n",
    "        return df._append(df_to_append, ignore_index = True)\n",
    "    # following page\n",
    "    while True:\n",
    "        response = get_url_response(url+start_key)\n",
    "        \n",
    "        for movie in response['grid']['list']:\n",
    "            value_to_append = get_value_from_json_key(keys = ['movie_title',\n",
    "                                                              'movie_id',\n",
    "                                                              'reviewer_name',\n",
    "                                                              'review_date',\n",
    "                                                              'review_score'\n",
    "                                                             ]\n",
    "                                                      ,json = movie)\n",
    "            df = append_to_df(df,value_to_append)\n",
    "\n",
    "        if not 'pageInfo' in response.keys():\n",
    "            break\n",
    "        else:\n",
    "            if not response['pageInfo']['hasNextPage']:\n",
    "                break\n",
    "            else:\n",
    "                startCursor = response['pageInfo']['startCursor'].replace('=','')\n",
    "                url = url+f'?after{startCursor}%3D'\n",
    "                                     \n",
    "                                     \n",
    "    \n",
    "    return df"
   ]
  },
  {
   "cell_type": "code",
   "execution_count": null,
   "id": "148d7b51-3b40-4b68-bb86-6415a8fb226a",
   "metadata": {},
   "outputs": [],
   "source": [
    "x = get_movie_name(f'https://www.rottentomatoes.com/napi/browse/movies_in_theaters/sort:newest')"
   ]
  },
  {
   "cell_type": "code",
   "execution_count": 53,
   "id": "0e6f2d06-04d5-4ddb-8b49-b48e45a2ba38",
   "metadata": {},
   "outputs": [
    {
     "data": {
      "text/plain": [
       "{'audienceScore': {'scorePercent': ''},\n",
       " 'criticsScore': {'certified': False,\n",
       "  'score': '96',\n",
       "  'scorePercent': '96%',\n",
       "  'sentiment': 'positive'},\n",
       " 'emsId': '035568aa-ef45-309c-bb8e-645e284c096f',\n",
       " 'isVideo': True,\n",
       " 'mediaUrl': '/m/juror_2',\n",
       " 'mpxId': '2376927811676',\n",
       " 'publicId': 'Ru_SBybmJp22',\n",
       " 'posterUri': 'https://resizing.flixster.com/IEjKc9qbPLUDPQIcpOxjTnZSRhM=/206x305/v2/https://resizing.flixster.com/65hB_oIyMeqRvppAAA5EH09Quz0=/ems.cHJkLWVtcy1hc3NldHMvbW92aWVzL2IyMDBjMDk1LTgxN2ItNDUwZi05ODVlLTM0M2U5YmI0OTk1ZS5qcGc=',\n",
       " 'releaseDateText': 'Opens Nov 01, 2024',\n",
       " 'title': 'Juror #2',\n",
       " 'type': 'Movie'}"
      ]
     },
     "execution_count": 53,
     "metadata": {},
     "output_type": "execute_result"
    }
   ],
   "source": [
    "r = json.loads(requests.get(f'https://www.rottentomatoes.com/napi/browse/movies_in_theaters/sort:newest').content.decode())\n",
    "r['grid']['list'][1]"
   ]
  },
  {
   "cell_type": "code",
   "execution_count": 57,
   "id": "efd541d7-673c-479c-bc71-47e948799a3e",
   "metadata": {},
   "outputs": [
    {
     "data": {
      "text/plain": [
       "dict_keys(['title', 'grid', 'pageInfo'])"
      ]
     },
     "execution_count": 57,
     "metadata": {},
     "output_type": "execute_result"
    }
   ],
   "source": [
    "r2 = json.loads(requests.get(u).content.decode())\n",
    "r2.keys()"
   ]
  },
  {
   "cell_type": "code",
   "execution_count": 58,
   "id": "b4ceb7a5-730c-442b-b1e2-9e46f06db5b8",
   "metadata": {},
   "outputs": [
    {
     "data": {
      "text/plain": [
       "{'startCursor': 'Mjg=',\n",
       " 'endCursor': 'NTc=',\n",
       " 'hasNextPage': True,\n",
       " 'hasPreviousPage': True}"
      ]
     },
     "execution_count": 58,
     "metadata": {},
     "output_type": "execute_result"
    }
   ],
   "source": [
    "r2['pageInfo']"
   ]
  },
  {
   "cell_type": "code",
   "execution_count": null,
   "id": "070e3f9b-0c15-4980-a593-ef3e2294e8c2",
   "metadata": {},
   "outputs": [],
   "source": []
  }
 ],
 "metadata": {
  "kernelspec": {
   "display_name": "Python 3 (ipykernel)",
   "language": "python",
   "name": "python3"
  },
  "language_info": {
   "codemirror_mode": {
    "name": "ipython",
    "version": 3
   },
   "file_extension": ".py",
   "mimetype": "text/x-python",
   "name": "python",
   "nbconvert_exporter": "python",
   "pygments_lexer": "ipython3",
   "version": "3.11.7"
  }
 },
 "nbformat": 4,
 "nbformat_minor": 5
}
