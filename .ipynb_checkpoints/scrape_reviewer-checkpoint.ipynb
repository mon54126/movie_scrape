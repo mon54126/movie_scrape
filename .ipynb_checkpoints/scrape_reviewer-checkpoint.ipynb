{
 "cells": [
  {
   "cell_type": "code",
   "execution_count": 1,
   "id": "55748f81-81ca-4678-a835-bc15968da3a3",
   "metadata": {},
   "outputs": [],
   "source": [
    "from bs4 import BeautifulSoup\n",
    "from requests import TooManyRedirects\n",
    "import re\n",
    "import requests\n",
    "from datetime import datetime\n",
    "import os\n",
    "import pandas as pd\n",
    "# ------- import ----------\n",
    "from scrape_function import * \n",
    "from scrape_util import *"
   ]
  },
  {
   "cell_type": "code",
   "execution_count": 2,
   "id": "cbe08d48-9c61-4f0c-9317-9e82289feb12",
   "metadata": {},
   "outputs": [],
   "source": [
    "url = f'https://www.rottentomatoes.com/napi/critics/stephen-silver/movies'\n",
    "res = get_url_response(url)"
   ]
  },
  {
   "cell_type": "code",
   "execution_count": 45,
   "id": "8918f129-96ea-4c2b-8c1a-71ff0fae7f69",
   "metadata": {},
   "outputs": [],
   "source": [
    "def json_dict_to_df(json_dict, df, else_value = None):\n",
    "    df = pd.DataFrame({'tomatometerSentiment':[],\n",
    "                       'mediaTomatometerCertified':[],\n",
    "                       'mediaTomatometerSentiment':[],\n",
    "                       'mediaTomatometerScore':[],\n",
    "                       'quote':[],\n",
    "                       'date':[],\n",
    "                       'mediaTomatometerScore':[],\n",
    "                       'mediaInfo':[],\n",
    "                       'mediaTitle':[],\n",
    "                       'mediaUrl':[]\n",
    "                        }) \n",
    "    ''' convert value from json dict form to existing pandas dataframe'''\n",
    "    key_list = df.columns\n",
    "    if not else_value:\n",
    "        else_value = [None]*len(key_list)\n",
    "    dict_lamb = lambda k,e: json_dict[k] if k in json_dict.keys() else e  \n",
    "    print([(key_list[i],else_value[i]) for i in range(len(key_list))])\n",
    "    value_list = map(dict_lamb, key_list, else_value)\n",
    "    return list(value_list)"
   ]
  },
  {
   "cell_type": "code",
   "execution_count": 46,
   "id": "2891e03c-f0b3-4c07-ac87-017547c4e4b9",
   "metadata": {},
   "outputs": [
    {
     "name": "stdout",
     "output_type": "stream",
     "text": [
      "[('quote', None), ('date', None)]\n"
     ]
    },
    {
     "data": {
      "text/plain": [
       "['If you’re a Beatles fan, and especially if you lived through these events, you’re going to love this, and you’re going to hear a lot of the music you love. The film, though, has nothing especially new or unconventional to say about these events.',\n",
       " 'Nov 27, 2024']"
      ]
     },
     "execution_count": 46,
     "metadata": {},
     "output_type": "execute_result"
    }
   ],
   "source": [
    "json_dict_to_df(json_dict = res['reviews'][0], df = None, key_list = ['quote','date'])"
   ]
  },
  {
   "cell_type": "code",
   "execution_count": 9,
   "id": "f102dfdf-cdd7-44db-a906-db7a2f6b291d",
   "metadata": {},
   "outputs": [],
   "source": [
    "dict_lamb = lambda x,k,e: x[k] if k in x.keys() else e   \n",
    "# tomatometerSentiment\n",
    "# mediaTomatometerCertified\n",
    "# mediaTomatometerSentiment\n",
    "# mediaTomatometerScore\n",
    "# quote\n",
    "# date\n",
    "# mediaInfo\n",
    "# mediaTitle\n",
    "# mediaUrl"
   ]
  },
  {
   "cell_type": "code",
   "execution_count": 5,
   "id": "de123aca-6279-40c1-a8d5-b86743522c53",
   "metadata": {},
   "outputs": [
    {
     "data": {
      "text/plain": [
       "{'compareValue': '1_undefined',\n",
       " 'tomatometerSentiment': 'POSITIVE',\n",
       " 'mediaTomatometerCertified': False,\n",
       " 'mediaTomatometerSentiment': 'POSITIVE',\n",
       " 'mediaTomatometerScore': '97',\n",
       " 'quote': 'If you’re a Beatles fan, and especially if you lived through these events, you’re going to love this, and you’re going to hear a lot of the music you love. The film, though, has nothing especially new or unconventional to say about these events.',\n",
       " 'publicationReviewUrl': '/critics/source/100009886',\n",
       " 'publicationName': 'The SS Ben Hecht',\n",
       " 'url': 'https://stephensilver.substack.com/p/beatles-64-is-a-fun-but-mostly-minor',\n",
       " 'date': 'Nov 27, 2024',\n",
       " 'isSelf': False,\n",
       " 'editReviewUrl': '/critics/self-submission/movie/de64ac04-193c-467e-973e-d46eea4f2298',\n",
       " 'mediaInfo': '2024',\n",
       " 'mediaTitle': \"Beatles '64\",\n",
       " 'mediaUrl': '/m/beatles_64'}"
      ]
     },
     "execution_count": 5,
     "metadata": {},
     "output_type": "execute_result"
    }
   ],
   "source": [
    "res['reviews'][0]"
   ]
  },
  {
   "cell_type": "code",
   "execution_count": null,
   "id": "30a23392-65bb-4447-8aa3-19dc284f6fc7",
   "metadata": {},
   "outputs": [],
   "source": []
  },
  {
   "cell_type": "code",
   "execution_count": 8,
   "id": "ab0a313a-b983-4dee-9787-99c4b6dca379",
   "metadata": {},
   "outputs": [
    {
     "name": "stdout",
     "output_type": "stream",
     "text": [
      "['compareValue', 'tomatometerSentiment', 'mediaTomatometerCertified', 'mediaTomatometerSentiment', 'mediaTomatometerScore', 'quote', 'publicationReviewUrl', 'publicationName', 'url', 'date', 'isSelf', 'editReviewUrl', 'mediaInfo', 'mediaTitle', 'mediaUrl']\n",
      "['compareValue', 'tomatometerSentiment', 'mediaTomatometerCertified', 'mediaTomatometerSentiment', 'mediaTomatometerScore', 'quote', 'publicationReviewUrl', 'publicationName', 'url', 'date', 'isSelf', 'editReviewUrl', 'mediaInfo', 'mediaTitle', 'mediaUrl']\n",
      "['compareValue', 'tomatometerSentiment', 'mediaTomatometerCertified', 'mediaTomatometerSentiment', 'mediaTomatometerScore', 'quote', 'publicationReviewUrl', 'publicationName', 'url', 'date', 'isSelf', 'editReviewUrl', 'mediaInfo', 'mediaTitle', 'mediaUrl']\n",
      "['compareValue', 'tomatometerSentiment', 'quote', 'publicationReviewUrl', 'publicationName', 'url', 'date', 'isSelf', 'editReviewUrl', 'mediaInfo', 'mediaTitle', 'mediaUrl']\n",
      "['compareValue', 'tomatometerSentiment', 'mediaTomatometerCertified', 'mediaTomatometerSentiment', 'mediaTomatometerScore', 'quote', 'publicationReviewUrl', 'publicationName', 'url', 'date', 'isSelf', 'editReviewUrl', 'mediaInfo', 'mediaTitle', 'mediaUrl']\n",
      "['compareValue', 'tomatometerSentiment', 'mediaTomatometerCertified', 'mediaTomatometerSentiment', 'mediaTomatometerScore', 'quote', 'publicationReviewUrl', 'publicationName', 'url', 'date', 'isSelf', 'editReviewUrl', 'mediaInfo', 'mediaTitle', 'mediaUrl']\n",
      "['compareValue', 'tomatometerSentiment', 'mediaTomatometerCertified', 'mediaTomatometerSentiment', 'mediaTomatometerScore', 'quote', 'publicationReviewUrl', 'publicationName', 'url', 'date', 'isSelf', 'editReviewUrl', 'mediaInfo', 'mediaTitle', 'mediaUrl']\n",
      "['compareValue', 'tomatometerSentiment', 'mediaTomatometerCertified', 'mediaTomatometerSentiment', 'mediaTomatometerScore', 'quote', 'publicationReviewUrl', 'publicationName', 'url', 'date', 'isSelf', 'editReviewUrl', 'mediaInfo', 'mediaTitle', 'mediaUrl']\n",
      "['compareValue', 'tomatometerSentiment', 'mediaTomatometerCertified', 'mediaTomatometerSentiment', 'mediaTomatometerScore', 'quote', 'publicationReviewUrl', 'publicationName', 'url', 'date', 'isSelf', 'editReviewUrl', 'mediaInfo', 'mediaTitle', 'mediaUrl']\n",
      "['compareValue', 'tomatometerSentiment', 'mediaTomatometerCertified', 'mediaTomatometerSentiment', 'mediaTomatometerScore', 'quote', 'publicationReviewUrl', 'publicationName', 'url', 'date', 'isSelf', 'editReviewUrl', 'mediaInfo', 'mediaTitle', 'mediaUrl']\n",
      "['compareValue', 'tomatometerSentiment', 'mediaTomatometerCertified', 'mediaTomatometerSentiment', 'mediaTomatometerScore', 'quote', 'publicationReviewUrl', 'publicationName', 'url', 'date', 'isSelf', 'editReviewUrl', 'mediaInfo', 'mediaTitle', 'mediaUrl']\n",
      "['compareValue', 'tomatometerSentiment', 'mediaTomatometerCertified', 'mediaTomatometerSentiment', 'mediaTomatometerScore', 'quote', 'publicationReviewUrl', 'publicationName', 'url', 'date', 'isSelf', 'editReviewUrl', 'mediaInfo', 'mediaTitle', 'mediaUrl']\n",
      "['compareValue', 'tomatometerSentiment', 'quote', 'publicationReviewUrl', 'publicationName', 'url', 'date', 'isSelf', 'editReviewUrl', 'mediaInfo', 'mediaTitle', 'mediaUrl']\n",
      "['compareValue', 'tomatometerSentiment', 'mediaTomatometerCertified', 'mediaTomatometerSentiment', 'mediaTomatometerScore', 'quote', 'publicationReviewUrl', 'publicationName', 'url', 'date', 'isSelf', 'editReviewUrl', 'mediaInfo', 'mediaTitle', 'mediaUrl']\n",
      "['compareValue', 'tomatometerSentiment', 'quote', 'publicationReviewUrl', 'publicationName', 'url', 'date', 'isSelf', 'editReviewUrl', 'mediaInfo', 'mediaTitle', 'mediaUrl']\n",
      "['compareValue', 'tomatometerSentiment', 'quote', 'publicationReviewUrl', 'publicationName', 'url', 'date', 'isSelf', 'editReviewUrl', 'mediaInfo', 'mediaTitle', 'mediaUrl']\n",
      "['compareValue', 'tomatometerSentiment', 'quote', 'publicationReviewUrl', 'publicationName', 'url', 'date', 'isSelf', 'editReviewUrl', 'mediaInfo', 'mediaTitle', 'mediaUrl']\n",
      "['compareValue', 'tomatometerSentiment', 'quote', 'publicationReviewUrl', 'publicationName', 'url', 'date', 'isSelf', 'editReviewUrl', 'mediaInfo', 'mediaTitle', 'mediaUrl']\n",
      "['compareValue', 'tomatometerSentiment', 'mediaTomatometerCertified', 'mediaTomatometerSentiment', 'mediaTomatometerScore', 'quote', 'publicationReviewUrl', 'publicationName', 'url', 'date', 'isSelf', 'editReviewUrl', 'mediaInfo', 'mediaTitle', 'mediaUrl']\n",
      "['compareValue', 'tomatometerSentiment', 'mediaTomatometerCertified', 'mediaTomatometerSentiment', 'mediaTomatometerScore', 'quote', 'publicationReviewUrl', 'publicationName', 'url', 'date', 'isSelf', 'editReviewUrl', 'mediaInfo', 'mediaTitle', 'mediaUrl']\n",
      "['compareValue', 'tomatometerSentiment', 'mediaTomatometerCertified', 'mediaTomatometerSentiment', 'mediaTomatometerScore', 'quote', 'publicationReviewUrl', 'publicationName', 'url', 'date', 'isSelf', 'editReviewUrl', 'mediaInfo', 'mediaTitle', 'mediaUrl']\n",
      "['compareValue', 'tomatometerSentiment', 'mediaTomatometerCertified', 'mediaTomatometerSentiment', 'mediaTomatometerScore', 'quote', 'publicationReviewUrl', 'publicationName', 'url', 'date', 'isSelf', 'editReviewUrl', 'mediaInfo', 'mediaTitle', 'mediaUrl']\n",
      "['compareValue', 'tomatometerSentiment', 'mediaTomatometerCertified', 'mediaTomatometerSentiment', 'mediaTomatometerScore', 'quote', 'publicationReviewUrl', 'publicationName', 'url', 'date', 'isSelf', 'editReviewUrl', 'mediaInfo', 'mediaTitle', 'mediaUrl']\n",
      "['compareValue', 'tomatometerSentiment', 'quote', 'publicationReviewUrl', 'publicationName', 'url', 'date', 'isSelf', 'editReviewUrl', 'mediaInfo', 'mediaTitle', 'mediaUrl']\n",
      "['compareValue', 'tomatometerSentiment', 'mediaTomatometerCertified', 'mediaTomatometerSentiment', 'mediaTomatometerScore', 'quote', 'publicationReviewUrl', 'publicationName', 'url', 'date', 'isSelf', 'editReviewUrl', 'mediaInfo', 'mediaTitle', 'mediaUrl']\n",
      "['compareValue', 'tomatometerSentiment', 'quote', 'publicationReviewUrl', 'publicationName', 'url', 'date', 'isSelf', 'editReviewUrl', 'mediaInfo', 'mediaTitle', 'mediaUrl']\n",
      "['compareValue', 'tomatometerSentiment', 'quote', 'publicationReviewUrl', 'publicationName', 'url', 'date', 'isSelf', 'editReviewUrl', 'mediaInfo', 'mediaTitle', 'mediaUrl']\n",
      "['compareValue', 'tomatometerSentiment', 'quote', 'publicationReviewUrl', 'publicationName', 'url', 'date', 'isSelf', 'editReviewUrl', 'mediaInfo', 'mediaTitle', 'mediaUrl']\n",
      "['compareValue', 'tomatometerSentiment', 'quote', 'publicationReviewUrl', 'publicationName', 'url', 'date', 'isSelf', 'editReviewUrl', 'mediaInfo', 'mediaTitle', 'mediaUrl']\n",
      "['compareValue', 'tomatometerSentiment', 'mediaTomatometerCertified', 'mediaTomatometerSentiment', 'mediaTomatometerScore', 'quote', 'publicationReviewUrl', 'publicationName', 'url', 'date', 'isSelf', 'editReviewUrl', 'mediaInfo', 'mediaTitle', 'mediaUrl']\n",
      "['compareValue', 'tomatometerSentiment', 'mediaTomatometerCertified', 'mediaTomatometerSentiment', 'mediaTomatometerScore', 'quote', 'publicationReviewUrl', 'publicationName', 'url', 'date', 'isSelf', 'editReviewUrl', 'mediaInfo', 'mediaTitle', 'mediaUrl']\n",
      "['compareValue', 'tomatometerSentiment', 'mediaTomatometerCertified', 'mediaTomatometerSentiment', 'mediaTomatometerScore', 'quote', 'publicationReviewUrl', 'publicationName', 'url', 'date', 'isSelf', 'editReviewUrl', 'mediaInfo', 'mediaTitle', 'mediaUrl']\n",
      "['compareValue', 'tomatometerSentiment', 'mediaTomatometerCertified', 'mediaTomatometerSentiment', 'mediaTomatometerScore', 'quote', 'publicationReviewUrl', 'publicationName', 'url', 'date', 'isSelf', 'editReviewUrl', 'mediaInfo', 'mediaTitle', 'mediaUrl']\n",
      "['compareValue', 'tomatometerSentiment', 'mediaTomatometerCertified', 'mediaTomatometerSentiment', 'mediaTomatometerScore', 'quote', 'publicationReviewUrl', 'publicationName', 'url', 'date', 'isSelf', 'editReviewUrl', 'mediaInfo', 'mediaTitle', 'mediaUrl']\n",
      "['compareValue', 'tomatometerSentiment', 'quote', 'publicationReviewUrl', 'publicationName', 'url', 'date', 'isSelf', 'editReviewUrl', 'mediaInfo', 'mediaTitle', 'mediaUrl']\n",
      "['compareValue', 'tomatometerSentiment', 'quote', 'publicationReviewUrl', 'publicationName', 'url', 'date', 'isSelf', 'editReviewUrl', 'mediaInfo', 'mediaTitle', 'mediaUrl']\n",
      "['compareValue', 'tomatometerSentiment', 'mediaTomatometerCertified', 'mediaTomatometerSentiment', 'mediaTomatometerScore', 'quote', 'publicationReviewUrl', 'publicationName', 'url', 'date', 'isSelf', 'editReviewUrl', 'mediaInfo', 'mediaTitle', 'mediaUrl']\n",
      "['compareValue', 'tomatometerSentiment', 'mediaTomatometerCertified', 'mediaTomatometerSentiment', 'mediaTomatometerScore', 'quote', 'publicationReviewUrl', 'publicationName', 'url', 'date', 'isSelf', 'editReviewUrl', 'mediaInfo', 'mediaTitle', 'mediaUrl']\n",
      "['compareValue', 'tomatometerSentiment', 'mediaTomatometerCertified', 'mediaTomatometerSentiment', 'mediaTomatometerScore', 'quote', 'publicationReviewUrl', 'publicationName', 'url', 'date', 'isSelf', 'editReviewUrl', 'mediaInfo', 'mediaTitle', 'mediaUrl']\n",
      "['compareValue', 'tomatometerSentiment', 'mediaTomatometerCertified', 'mediaTomatometerSentiment', 'mediaTomatometerScore', 'quote', 'publicationReviewUrl', 'publicationName', 'url', 'date', 'isSelf', 'editReviewUrl', 'mediaInfo', 'mediaTitle', 'mediaUrl']\n",
      "['compareValue', 'tomatometerSentiment', 'mediaTomatometerCertified', 'mediaTomatometerSentiment', 'mediaTomatometerScore', 'quote', 'publicationReviewUrl', 'publicationName', 'url', 'date', 'isSelf', 'editReviewUrl', 'mediaInfo', 'mediaTitle', 'mediaUrl']\n",
      "['compareValue', 'tomatometerSentiment', 'mediaTomatometerCertified', 'mediaTomatometerSentiment', 'mediaTomatometerScore', 'quote', 'publicationReviewUrl', 'publicationName', 'url', 'date', 'isSelf', 'editReviewUrl', 'mediaInfo', 'mediaTitle', 'mediaUrl']\n",
      "['compareValue', 'tomatometerSentiment', 'mediaTomatometerCertified', 'mediaTomatometerSentiment', 'mediaTomatometerScore', 'quote', 'publicationReviewUrl', 'publicationName', 'url', 'date', 'isSelf', 'editReviewUrl', 'mediaInfo', 'mediaTitle', 'mediaUrl']\n",
      "['compareValue', 'tomatometerSentiment', 'mediaTomatometerCertified', 'mediaTomatometerSentiment', 'mediaTomatometerScore', 'quote', 'publicationReviewUrl', 'publicationName', 'url', 'date', 'isSelf', 'editReviewUrl', 'mediaInfo', 'mediaTitle', 'mediaUrl']\n",
      "['compareValue', 'tomatometerSentiment', 'mediaTomatometerCertified', 'mediaTomatometerSentiment', 'mediaTomatometerScore', 'quote', 'publicationReviewUrl', 'publicationName', 'url', 'date', 'isSelf', 'editReviewUrl', 'mediaInfo', 'mediaTitle', 'mediaUrl']\n",
      "['compareValue', 'tomatometerSentiment', 'mediaTomatometerCertified', 'mediaTomatometerSentiment', 'mediaTomatometerScore', 'quote', 'publicationReviewUrl', 'publicationName', 'url', 'date', 'isSelf', 'editReviewUrl', 'mediaInfo', 'mediaTitle', 'mediaUrl']\n",
      "['compareValue', 'tomatometerSentiment', 'mediaTomatometerCertified', 'mediaTomatometerSentiment', 'mediaTomatometerScore', 'quote', 'publicationReviewUrl', 'publicationName', 'url', 'date', 'isSelf', 'editReviewUrl', 'mediaInfo', 'mediaTitle', 'mediaUrl']\n",
      "['compareValue', 'tomatometerSentiment', 'mediaTomatometerCertified', 'mediaTomatometerSentiment', 'mediaTomatometerScore', 'quote', 'publicationReviewUrl', 'publicationName', 'url', 'date', 'isSelf', 'editReviewUrl', 'mediaInfo', 'mediaTitle', 'mediaUrl']\n",
      "['compareValue', 'tomatometerSentiment', 'originalScore', 'mediaTomatometerCertified', 'mediaTomatometerSentiment', 'mediaTomatometerScore', 'quote', 'publicationReviewUrl', 'publicationName', 'url', 'date', 'isSelf', 'editReviewUrl', 'mediaInfo', 'mediaTitle', 'mediaUrl']\n",
      "['compareValue', 'tomatometerSentiment', 'mediaTomatometerCertified', 'mediaTomatometerSentiment', 'mediaTomatometerScore', 'quote', 'publicationReviewUrl', 'publicationName', 'url', 'date', 'isSelf', 'editReviewUrl', 'mediaInfo', 'mediaTitle', 'mediaUrl']\n"
     ]
    }
   ],
   "source": [
    "for r in res['reviews']:\n",
    "    print(list(r.keys()))"
   ]
  },
  {
   "cell_type": "code",
   "execution_count": null,
   "id": "f3a352ea-e8df-405f-a0f5-474c43b91f0a",
   "metadata": {},
   "outputs": [],
   "source": []
  }
 ],
 "metadata": {
  "kernelspec": {
   "display_name": "Python 3 (ipykernel)",
   "language": "python",
   "name": "python3"
  },
  "language_info": {
   "codemirror_mode": {
    "name": "ipython",
    "version": 3
   },
   "file_extension": ".py",
   "mimetype": "text/x-python",
   "name": "python",
   "nbconvert_exporter": "python",
   "pygments_lexer": "ipython3",
   "version": "3.11.7"
  }
 },
 "nbformat": 4,
 "nbformat_minor": 5
}
